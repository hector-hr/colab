{
  "nbformat": 4,
  "nbformat_minor": 0,
  "metadata": {
    "colab": {
      "name": "Xsfer gd to tera.ipynb",
      "provenance": [],
      "collapsed_sections": [],
      "include_colab_link": true
    },
    "kernelspec": {
      "name": "python3",
      "display_name": "Python 3"
    },
    "language_info": {
      "name": "python"
    }
  },
  "cells": [
    {
      "cell_type": "markdown",
      "metadata": {
        "id": "view-in-github",
        "colab_type": "text"
      },
      "source": [
        "<a href=\"https://colab.research.google.com/github/rgraves0/Colab/blob/main/Xsfer_gd_to_tera.ipynb\" target=\"_parent\"><img src=\"https://colab.research.google.com/assets/colab-badge.svg\" alt=\"Open In Colab\"/></a>"
      ]
    },
    {
      "cell_type": "markdown",
      "metadata": {
        "id": "Xm9NRd2nxqLu"
      },
      "source": [
        "<h3>Execute every node in sequence</h3>\n",
        "*recomended <br/>\n",
        "or u will miss some important edits"
      ]
    },
    {
      "cell_type": "code",
      "metadata": {
        "colab": {
          "base_uri": "https://localhost:8080/"
        },
        "id": "LGtx-9FB0hky",
        "outputId": "091f3b0e-63cd-4cd9-e75b-39bca4e8d8a6"
      },
      "source": [
        "# required modules installation\n",
        "!pip install internetarchive"
      ],
      "execution_count": null,
      "outputs": [
        {
          "output_type": "stream",
          "name": "stdout",
          "text": [
            "Requirement already satisfied: internetarchive in /usr/local/lib/python3.7/dist-packages (2.2.0)\n",
            "Requirement already satisfied: six<2.0.0,>=1.13.0 in /usr/local/lib/python3.7/dist-packages (from internetarchive) (1.15.0)\n",
            "Requirement already satisfied: schema>=0.4.0 in /usr/local/lib/python3.7/dist-packages (from internetarchive) (0.7.5)\n",
            "Requirement already satisfied: tqdm>=4.0.0 in /usr/local/lib/python3.7/dist-packages (from internetarchive) (4.62.3)\n",
            "Requirement already satisfied: jsonpatch>=0.4 in /usr/local/lib/python3.7/dist-packages (from internetarchive) (1.32)\n",
            "Requirement already satisfied: requests<3.0.0,>=2.25.0 in /usr/local/lib/python3.7/dist-packages (from internetarchive) (2.26.0)\n",
            "Requirement already satisfied: urllib3>=1.26.0 in /usr/local/lib/python3.7/dist-packages (from internetarchive) (1.26.7)\n",
            "Requirement already satisfied: docopt<0.7.0,>=0.6.0 in /usr/local/lib/python3.7/dist-packages (from internetarchive) (0.6.2)\n",
            "Requirement already satisfied: jsonpointer>=1.9 in /usr/local/lib/python3.7/dist-packages (from jsonpatch>=0.4->internetarchive) (2.2)\n",
            "Requirement already satisfied: certifi>=2017.4.17 in /usr/local/lib/python3.7/dist-packages (from requests<3.0.0,>=2.25.0->internetarchive) (2021.10.8)\n",
            "Requirement already satisfied: charset-normalizer~=2.0.0 in /usr/local/lib/python3.7/dist-packages (from requests<3.0.0,>=2.25.0->internetarchive) (2.0.8)\n",
            "Requirement already satisfied: idna<4,>=2.5 in /usr/local/lib/python3.7/dist-packages (from requests<3.0.0,>=2.25.0->internetarchive) (2.10)\n",
            "Requirement already satisfied: contextlib2>=0.5.5 in /usr/local/lib/python3.7/dist-packages (from schema>=0.4.0->internetarchive) (0.5.5)\n"
          ]
        }
      ]
    },
    {
      "cell_type": "code",
      "metadata": {
        "id": "kBM-d7CK9LHP"
      },
      "source": [
        "# downloading anytype of file from server\n",
        "import urllib.request\n",
        "# following variable keep target file location with file extension\n",
        "tar_loc=\"10.zip\"\n",
        "# It is google photos export download link\n",
        "urllib.request.urlretrieve('https://00f74ba44b06ad2b25331f2222d0a6d55fd7beefcb-apidata.googleusercontent.com/download/storage/v1/b/dataliberation/o/20210531T101632Z%2F7404861098411033338%2F121bdc54-40a4-427c-b8ca-882a6e8b3d56%2F1%2F38af1e43-9dbf-42c4-9bf2-2f4f7e48e461?jk=AFshE3WvL6UYYr--0UO14GbtXUT2XMMJi0oQHYI7UPZ6JTrIjCpqaS6pG7cDfgB4gmIcIv0E4H70nveONj85dX-JAYVlOLvchlHjELfzrDfb6-ilfm3dt7v9QWJs0N0Wj32h7JFRGccO3ff1-F3OtB2UYk5TKG8DK5S3NEfTSShFa-cYdC8AhE7tn8M1w8nouvBh6-UtxFgSYV919G-23DxC9BheLWhxeg_xT6wkEWXqmZu7GWWr39kl5SCAqhz4ONhjEkhRISH7KlomtJhIF52Us3P8smV1SzlQLsap5BIcZftwvbV4Y3mW3MUSRZ_Nk39Y42iO2J3-3oxzwejCW6oop7LKjIKjg-5wuygPw6butE8uoMC09wntfGEtqh_4ZyVtqMN1bKQgvYv7e0b9GPP5ZowWY12V3jFyJ9Zit3ZWqcGQZS_e7b42vsCb62Le1MAYbTUFje45VenOOilw9IjE6gZWdOtK9RAQ9CNCZaMPDHpVK7C7M9RgxuOCNqoAbinTZ5g4XHU6mufLnwMKu092HrfhalrlQMEylRv99wV50J-6p6e_MgSWJ7S0TAL9miFw_sgymXmD9Ry84zPBixIjz3w3eN79NQtmzyJbsV6kR2HwgEYonQAoaUfaLGggKi3CehOCl5VaTFCdeXboXxTweKBzq1hwMUVz6Ss2UKSl42vItFSh15uWvZ5pEocXqRwIs-_f5o8lm_7n7uXlyRFdDY1gS6ISDkKWD2vsftdTM94cLL5MAhhdF68Mn6pQ_kDNYiBUF2hohqib1sFij_4ULikWngT6ctZzQ5SSY7EnZJiWlAzeYZeJa0mbyCa1gsbOUX60K8OjIxjJpJP8u1NLeX9ALYj84kiCQljxTBaPNhKt28_0oE-5PcfHEP5JJzizS1SE3Sjh8131Wm6gg2MJSsSwvNOZDQ0awJN9XmeFaD2Iz0xA5aMzNarrbFCT0UzagTIL6nDDBE9StDAuD1rXAgVhXt6IpbvktnIBzQfFCX5YPCWqd6x-JaXbWR4IVnn55z9O_WarZwavAeAgvMVznje98SeWIj4FkvUrrz3Z7yfZR_dLF-HCz2dz1ORoFTWa3TxDbEJXT48WkguvwqU&isca=1',tar_loc)"
      ],
      "execution_count": null,
      "outputs": []
    },
    {
      "cell_type": "code",
      "metadata": {
        "id": "NJcks66YqN3N"
      },
      "source": [
        "#making new directory for opr.\n",
        "os.mkdir(\"/content/KOTL/\")"
      ],
      "execution_count": null,
      "outputs": []
    },
    {
      "cell_type": "code",
      "metadata": {
        "id": "yB4_mqPMsPX7"
      },
      "source": [
        "#moving to work folder to execute unzip process\n",
        "work_fol=\"/content/KOTL\"\n",
        "os.chdir(work_fol)\n",
        "if os.getcwd() == work_fol:\n",
        "  print(f'directory changed to {work_fol}')"
      ],
      "execution_count": null,
      "outputs": []
    },
    {
      "cell_type": "code",
      "metadata": {
        "id": "PhENEjfzs7nZ"
      },
      "source": [
        "# copying zip file to work folder\n",
        "\n",
        "# file_path=\"/content/drive/MyDrive/gp_310521/10.zip\"\n",
        "# target_loc=\"/content/KOTL/\"\n",
        "# z=\"!cp \"+file_path+\" \"+target_loc\n",
        "# os.popen(z)\n",
        "\n",
        "# if os module don't work or coping undecided size file, then using unix command\n",
        "\n",
        "# !cp \"/content/drive/MyDrive/gp_310521/10.zip\" \"/content/KOTL/\"\n",
        "\n",
        "# or this for progress of copying file\n",
        "!rsync -ah --progress \"/content/drive/MyDrive/gp_310521/10.zip\" \"/content/KOTL/\"\n",
        "#1st parameter is source and 2nd is destination"
      ],
      "execution_count": null,
      "outputs": []
    },
    {
      "cell_type": "code",
      "metadata": {
        "id": "1Y7fIQ_w-emx"
      },
      "source": [
        "# size suggestions in multiple of bytes / checking file size for confirmation.\n",
        "# import os\n",
        "file_loc=\"/content/KOTL/zipping/python.zip\"\n",
        "st=os.stat(file_loc).st_size\n",
        "size=\"bytes\"\n",
        "gb=1\n",
        "if st > gb*1024:\n",
        "  size=\"kilobytes\"\n",
        "  gb=1024*gb\n",
        "if st > gb*1024:\n",
        "  size=\"megabytes\"\n",
        "  gb=1024*gb\n",
        "if st > gb*1024:\n",
        "  size=\"gigabytes\"\n",
        "  gb=1024*gb\n",
        "if st > gb*1024:\n",
        "  size=\"terabytes\"\n",
        "  gb=1024*gb\n",
        "if str(st / gb).find('.') != 0:\n",
        "  print(f'File Size in {size} is {str(st / gb)[0:(str(st / gb).find(\".\"))+3]}')\n",
        "else:\n",
        "  print(f'File Size in {size} is {st / gb}')"
      ],
      "execution_count": null,
      "outputs": []
    },
    {
      "cell_type": "code",
      "metadata": {
        "id": "_gOCkGYHygh1"
      },
      "source": [
        "#removing unwanted folder in google colab perticularly for tree structure deletion\n",
        "import shutil\n",
        "try:\n",
        "  shutil.rmtree('/content/KOTL/Takeout')\n",
        "except FileNotFoundError as er:\n",
        "  print(er)"
      ],
      "execution_count": null,
      "outputs": []
    },
    {
      "cell_type": "code",
      "metadata": {
        "id": "mS1DMuXR7sBG"
      },
      "source": [
        "# unzipping with build-in module ZipFile\n",
        "# directory or files names loop will truncate at 5000 lines [pre-decided]\n",
        "import time\n",
        "from zipfile import ZipFile\n",
        "begin = time.time()\n",
        "zip_loc=\"10.zip\"\n",
        "with ZipFile(zip_loc, 'r') as zip:\n",
        "    print(\"available files in zip :\\n\")\n",
        "    zip.printdir()\n",
        "    print('\\nExtracting all the files now...')\n",
        "    zip.extractall()\n",
        "    print('Unzipping Done!')\n",
        "end = time.time()\n",
        "print(f\"\\nTotal runtime of this code block is {end - begin}\")"
      ],
      "execution_count": null,
      "outputs": []
    },
    {
      "cell_type": "code",
      "metadata": {
        "id": "ReV_Iy_IvUpy"
      },
      "source": [
        "#making new directory for only .jpg type of files\n",
        "#make sure KOTL folder already generated***\n",
        "import os\n",
        "try:\n",
        "  os.mkdir(\"/content/KOTL/out\")\n",
        "except FileExistsError:\n",
        "  print(\"folder already exists\")\n",
        "# now moving to that folder\n",
        "work_fol=\"/content/KOTL/out\"\n",
        "os.chdir(work_fol)\n",
        "if os.getcwd() == work_fol:\n",
        "  print(f'directory changed to {work_fol}')"
      ],
      "execution_count": null,
      "outputs": []
    },
    {
      "cell_type": "code",
      "metadata": {
        "id": "a6OLbt8mv-3C"
      },
      "source": [
        "#taking out all .jpg .bmp .tif .tiff .jpeg .gif .png .eps images from this folder and all sub-folders\n",
        "import glob\n",
        "import os\n",
        "i=0\n",
        "\n",
        "#this function will remove <space>,),(,` from folder or file name\n",
        "def changer(x):\n",
        "  tmp=x\n",
        "  if x.find(' ')>0:\n",
        "    x=x.replace(' ','')\n",
        "  if x.find('(')>0:\n",
        "    x=x.replace('(','')\n",
        "  if x.find('`')>0:\n",
        "    x=x.replace('`','')\n",
        "  if x.find(')')>0:\n",
        "    x=x.replace(')','')\n",
        "  print('changing name to ',x)\n",
        "  os.rename(tmp,x)\n",
        "  return x\n",
        "\n",
        "\n",
        "def xsfer(cpf,cpt):\n",
        "  types = ['*.bmp','*.tif','*.tiff','*.jpg', '*.jpeg','*.gif','*.png','*.eps']\n",
        "  types1 = ['*.mp4']\n",
        "  images = []\n",
        "  for files in types1:\n",
        "    images.extend(glob.glob(cpf + '/' +files))\n",
        "  for x in images:\n",
        "    if x.find(')') or x.find('(') or x.find(' ') or x.find('`'):\n",
        "      x = changer(x)\n",
        "    x='cp '+x+' '+ cpt\n",
        "    os.popen(x)\n",
        "    global i\n",
        "    i=i+1\n",
        "  pass\n",
        "def caller(cpf,cpt):\n",
        "  if cpf.find(')') or cpf.find('(') or cpf.find(' ') or cpf.find('`'):\n",
        "    cpf = changer(cpf)\n",
        "  print(\"changing to \"+cpf+\" .....\")\n",
        "  os.chdir(cpf)\n",
        "  #these are the types of file we want to extract\n",
        "  types = ['*.bmp','*.tif','*.tiff','*.jpg', '*.jpeg','*.gif','*.png','*.eps']\n",
        "  types1 = ['*.mp4']\n",
        "  files_grabbed = []\n",
        "  for files in types1:\n",
        "    files_grabbed.extend(glob.glob(cpf + '/' +files))\n",
        "  if len(files_grabbed)>0:\n",
        "    xsfer(cpf,cpt)\n",
        "  dir=os.listdir('.')\n",
        "  dir=list(filter(lambda x:x.find('.')<0,dir))\n",
        "  print('available folders in ',dir)\n",
        "  if len(dir)>0:\n",
        "    for dir_loc in dir:\n",
        "      caller(cpf+\"/\"+dir_loc,cpt)\n",
        "  pass\n",
        "\n",
        "#this function will do this process of copying data to needed folder\n",
        "caller('/content/KOTL/Takeout','/content/KOTL/out2')\n",
        "print(\"total number of images transfered \",i)"
      ],
      "execution_count": null,
      "outputs": []
    },
    {
      "cell_type": "code",
      "metadata": {
        "id": "ZEE8HrOi2Veq"
      },
      "source": [
        "#check size of folder using subprocess\n",
        "import subprocess\n",
        "path = '/content/KOTL/out1'\n",
        "size = subprocess.check_output(['du','-sh', path]).split()[0].decode('utf-8')\n",
        "print(\"Directory size: \" + size)\n",
        "\n",
        "#numbers of files available in this perticular folder\n",
        "print(\"number of files available :\",len([name for name in os.listdir(path) if os.path.isfile(name)]))"
      ],
      "execution_count": null,
      "outputs": []
    },
    {
      "cell_type": "code",
      "metadata": {
        "id": "sLo_py002X6a"
      },
      "source": [
        "#creating a new directory for zipp files\n",
        "import os\n",
        "try:\n",
        "  os.mkdir(\"/content/KOTL/zipping\")\n",
        "except FileExistsError:\n",
        "  print(\"folder already exists\")\n",
        "# now moving to that folder\n",
        "work_fol=\"/content/KOTL/zipping\"\n",
        "os.chdir(work_fol)\n",
        "if os.getcwd() == work_fol:\n",
        "  print(f'directory changed to {work_fol}')"
      ],
      "execution_count": null,
      "outputs": []
    },
    {
      "cell_type": "code",
      "metadata": {
        "id": "eG2IIseWxB3J"
      },
      "source": [
        "#now compressing files available in '/content/KOTL/out2' or sub-folders to into gpcontent.zip\n",
        "import os\n",
        "import zipfile\n",
        "    \n",
        "def zipdir(path, ziph):\n",
        "    # ziph is zipfile handle\n",
        "    for root, dirs, files in os.walk(path):\n",
        "        for file in files:\n",
        "            ziph.write(os.path.join(root, file), \n",
        "                       os.path.relpath(os.path.join(root, file), \n",
        "                                       os.path.join(path, '..')))\n",
        "      \n",
        "zipf = zipfile.ZipFile('/content/KOTL/zipping/gpcontent.zip', 'w', zipfile.ZIP_DEFLATED)\n",
        "zipdir('/content/KOTL/out2', zipf)\n",
        "zipf.close()"
      ],
      "execution_count": null,
      "outputs": []
    },
    {
      "cell_type": "code",
      "metadata": {
        "colab": {
          "base_uri": "https://localhost:8080/"
        },
        "id": "CFahU4---GqC",
        "outputId": "d146b4a8-c4dc-41d0-9cef-25d709acb82a"
      },
      "source": [
        "#uploadiong to internetarchive.org using ia module\n",
        "#configuring user details for login into account\n",
        "\n",
        "!ia configure\n",
        "\n",
        "# or\n",
        "\n",
        "# from internetarchive import configure\n",
        "# configure('myemail!@example.com', 'password')"
      ],
      "execution_count": null,
      "outputs": [
        {
          "output_type": "stream",
          "name": "stdout",
          "text": [
            "Enter your Archive.org credentials below to configure 'ia'.\n",
            "\n",
            "Email address: sandeepyadav1478@gmail.com\n",
            "Password: \n",
            "\n",
            "Config saved to: /root/.config/internetarchive/ia.ini\n"
          ]
        }
      ]
    },
    {
      "cell_type": "code",
      "metadata": {
        "id": "qV3G1WWh_bO6"
      },
      "source": [
        "#checking secret content of created file\n",
        "import os\n",
        "fd = os.open('/root/.config/ia.ini',os.O_RDONLY)\n",
        "os.lseek(fd, 0, 0)\n",
        "str = os.read(fd, os.path.getsize(fd))\n",
        "print(str.decode())"
      ],
      "execution_count": null,
      "outputs": []
    },
    {
      "cell_type": "code",
      "metadata": {
        "id": "cCFyvV2JBO6m"
      },
      "source": [
        "#creating session for upload\n",
        "from internetarchive import get_session\n",
        "\n",
        "#------ change these parameters as shown in above out field or got this url https://archive.org/account/s3.php after login\n",
        "access = 'o92qm7rxdV5g4E1g'\n",
        "secret = 'lIZl9SMHfJaXkiFg'\n",
        "#----------------------------\n",
        "\n",
        "c = {'s3': {'access': access, 'secret': secret}}\n",
        "session = get_session(config=c)\n",
        "print(session)"
      ],
      "execution_count": null,
      "outputs": []
    },
    {
      "cell_type": "code",
      "metadata": {
        "id": "FQSqy-T4Ba7G"
      },
      "source": [
        "# getting identifier for upload on ia\n",
        "from internetarchive import get_item\n",
        "cool_podcast = get_item('my_007') #this identifier is important, you need to init identifier before upload. Make sure u choose unique identifier\n",
        "print(cool_podcast.metadata)\n",
        "upload_data = ['/content/10.zip'] # its an list of files or folders\n",
        "# like the example given below, it will gonna upload every file available in that folder\n",
        "\n",
        "# metadata of files we want to upload\n",
        "\n",
        "md = {'title': 'Intellectual Property, and Other Legal Concerns\" by Me (2016) - my_007',\n",
        "      'mediatype': 'data',\n",
        "      'collection': 'opensource_media',\n",
        "      'date': '2021-06-01',\n",
        "      'description': '<div><i>Pokémon GO</i> was an immediate sensation when Niantic released it in 2016, and it continues to be one of the highest-grossing apps on mobile devices. While the hype was still high, Tiffany C. Li wrote about potential legal rankles Niantic might face on the road to becoming a Poké Fan Master.<br /></div><div><br /></div><div><a href=\"https://osf.io/preprints/lawarxiv/gexpm/\" rel=\"nofollow\">The Paper.</a></div><div><br /></div><div>Mike Overby (<a href=\"https://twitter.com/lethargilistic\" rel=\"nofollow\">@lethargilistic</a>) reads <em>Amicus Lectio</em> (<a href=\"https://twitter.com/amicuslectio\" rel=\"nofollow\">@AmicusLectio</a></div>).',\n",
        "      'subject': ['law', 'pokemon', 'pokemon go', 'amicus lectio',\n",
        "                  'privacy', 'trespass', 'augmented reality', 'copyright',\n",
        "                  'trademark', 'intellectual property'],\n",
        "      'creator': 'HCS All Home',\n",
        "      'language': 'English',\n",
        "      'licenseurl': 'http://creativecommons.org/publicdomain/zero/1.0/'}\n",
        "\n",
        "cool_podcast.upload(upload_data, metadata=md, verbose=True)\n",
        "#this function return a status code like '200' which means everything is ok"
      ],
      "execution_count": null,
      "outputs": []
    },
    {
      "cell_type": "code",
      "metadata": {
        "id": "XV2gG01WHmyW"
      },
      "source": [
        "#checking files uploaded on ia\n",
        "from internetarchive import search_items\n",
        "for item in search_items('identifier:csh_keeper_007').iter_as_items():\n",
        "  print(item.metadata['title'])"
      ],
      "execution_count": null,
      "outputs": []
    },
    {
      "cell_type": "code",
      "metadata": {
        "id": "lzRINBGs1Cem"
      },
      "source": [
        ""
      ],
      "execution_count": null,
      "outputs": []
    }
  ]
}