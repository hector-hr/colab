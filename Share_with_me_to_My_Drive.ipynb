{
  "nbformat": 4,
  "nbformat_minor": 0,
  "metadata": {
    "colab": {
      "name": "Share_with_me_to_My_Drive.ipynb",
      "provenance": [],
      "include_colab_link": true
    },
    "kernelspec": {
      "name": "python3",
      "display_name": "Python 3"
    },
    "language_info": {
      "name": "python"
    }
  },
  "cells": [
    {
      "cell_type": "markdown",
      "metadata": {
        "id": "view-in-github",
        "colab_type": "text"
      },
      "source": [
        "<a href=\"https://colab.research.google.com/github/rgraves0/Colab/blob/main/Share_with_me_to_My_Drive.ipynb\" target=\"_parent\"><img src=\"https://colab.research.google.com/assets/colab-badge.svg\" alt=\"Open In Colab\"/></a>"
      ]
    },
    {
      "cell_type": "code",
      "metadata": {
        "colab": {
          "base_uri": "https://localhost:8080/"
        },
        "id": "uSLhznYJqHdW",
        "outputId": "ec6d233e-fcaf-4d5d-e496-5fbc109bbd5f"
      },
      "source": [
        "from google.colab import drive\n",
        "drive.mount('/content/drive', force_remount=True)"
      ],
      "execution_count": null,
      "outputs": [
        {
          "output_type": "stream",
          "text": [
            "Mounted at /content/drive\n"
          ],
          "name": "stdout"
        }
      ]
    },
    {
      "cell_type": "code",
      "metadata": {
        "id": "Tk3vdjR_rB4P"
      },
      "source": [
        "%cd \"/content/drive/MyDrive\""
      ],
      "execution_count": null,
      "outputs": []
    },
    {
      "cell_type": "code",
      "metadata": {
        "id": "YtQvtw4_rhuw"
      },
      "source": [
        "!du -h --max-depth=1 \"/content/drive/\" | sort -rh | head -10"
      ],
      "execution_count": null,
      "outputs": []
    },
    {
      "cell_type": "code",
      "metadata": {
        "colab": {
          "base_uri": "https://localhost:8080/"
        },
        "id": "uWhfadjYs6yv",
        "outputId": "af42bb72-b9f2-4902-f373-9a48a924f45d"
      },
      "source": [
        "!ls \"/content/drive/.shortcut-targets-by-id/1E8YyvsVIA6u9xPdzgkYJDSbHSuCPF6wA/MMO.MYANMAR SONG LIBRARY\""
      ],
      "execution_count": null,
      "outputs": [
        {
          "output_type": "stream",
          "text": [
            "'MMO.MM SONG 1 ( 105 ALBUM )'  'MMO.MM SONG 3 ( 120 ALBUM )'  'MM SONG 0'\n",
            "'MMO.MM SONG 2 ( 99 ALBUM )'   'MMO.MM SONG 4 ( 104 ALBUM )'\n"
          ],
          "name": "stdout"
        }
      ]
    },
    {
      "cell_type": "code",
      "metadata": {
        "id": "UaiqquYxtqYW"
      },
      "source": [
        "!cp -v -r -u \"/content/drive/\"  \"/content/drive/Shareddrives/\""
      ],
      "execution_count": null,
      "outputs": []
    }
  ]
}